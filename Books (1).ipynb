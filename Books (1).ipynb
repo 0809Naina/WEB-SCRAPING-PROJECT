{
 "cells": [
  {
   "cell_type": "code",
   "execution_count": 1,
   "id": "31ef8043",
   "metadata": {},
   "outputs": [],
   "source": [
    "import requests\n",
    "from bs4 import BeautifulSoup as bs\n",
    "import re\n",
    "import pandas as pd"
   ]
  },
  {
   "cell_type": "code",
   "execution_count": 2,
   "id": "b2fb4058",
   "metadata": {},
   "outputs": [],
   "source": [
    "url= \"https://books.toscrape.com/catalogue/category/books_1/page-1.html\" "
   ]
  },
  {
   "cell_type": "code",
   "execution_count": 3,
   "id": "ebadebbe",
   "metadata": {},
   "outputs": [],
   "source": [
    "r = requests.get(url)"
   ]
  },
  {
   "cell_type": "code",
   "execution_count": 4,
   "id": "a8cca29a",
   "metadata": {},
   "outputs": [
    {
     "name": "stdout",
     "output_type": "stream",
     "text": [
      "<Response [200]>\n"
     ]
    }
   ],
   "source": [
    "print(r)"
   ]
  },
  {
   "cell_type": "code",
   "execution_count": 5,
   "id": "ae1b538d",
   "metadata": {},
   "outputs": [],
   "source": [
    "soup = bs(r.text,\"lxml\")"
   ]
  },
  {
   "cell_type": "code",
   "execution_count": 6,
   "id": "6b4c67ea",
   "metadata": {},
   "outputs": [
    {
     "data": {
      "text/plain": [
       "<div class=\"page_inner\">\n",
       "<div class=\"row\">\n",
       "<div class=\"col-sm-8 h1\"><a href=\"../../../index.html\">Books to Scrape</a><small> We love being scraped!</small>\n",
       "</div>\n",
       "</div>\n",
       "</div>"
      ]
     },
     "execution_count": 6,
     "metadata": {},
     "output_type": "execute_result"
    }
   ],
   "source": [
    "soup.div"
   ]
  },
  {
   "cell_type": "code",
   "execution_count": 7,
   "id": "22fe5f6f",
   "metadata": {},
   "outputs": [
    {
     "data": {
      "text/plain": [
       "<li>\n",
       "<a href=\"../../../index.html\">Home</a>\n",
       "</li>"
      ]
     },
     "execution_count": 7,
     "metadata": {},
     "output_type": "execute_result"
    }
   ],
   "source": [
    "soup.li"
   ]
  },
  {
   "cell_type": "code",
   "execution_count": 8,
   "id": "337205a0",
   "metadata": {},
   "outputs": [
    {
     "data": {
      "text/plain": [
       "[<h3><a href=\"../../a-light-in-the-attic_1000/index.html\" title=\"A Light in the Attic\">A Light in the ...</a></h3>,\n",
       " <h3><a href=\"../../tipping-the-velvet_999/index.html\" title=\"Tipping the Velvet\">Tipping the Velvet</a></h3>,\n",
       " <h3><a href=\"../../soumission_998/index.html\" title=\"Soumission\">Soumission</a></h3>,\n",
       " <h3><a href=\"../../sharp-objects_997/index.html\" title=\"Sharp Objects\">Sharp Objects</a></h3>,\n",
       " <h3><a href=\"../../sapiens-a-brief-history-of-humankind_996/index.html\" title=\"Sapiens: A Brief History of Humankind\">Sapiens: A Brief History ...</a></h3>,\n",
       " <h3><a href=\"../../the-requiem-red_995/index.html\" title=\"The Requiem Red\">The Requiem Red</a></h3>,\n",
       " <h3><a href=\"../../the-dirty-little-secrets-of-getting-your-dream-job_994/index.html\" title=\"The Dirty Little Secrets of Getting Your Dream Job\">The Dirty Little Secrets ...</a></h3>,\n",
       " <h3><a href=\"../../the-coming-woman-a-novel-based-on-the-life-of-the-infamous-feminist-victoria-woodhull_993/index.html\" title=\"The Coming Woman: A Novel Based on the Life of the Infamous Feminist, Victoria Woodhull\">The Coming Woman: A ...</a></h3>,\n",
       " <h3><a href=\"../../the-boys-in-the-boat-nine-americans-and-their-epic-quest-for-gold-at-the-1936-berlin-olympics_992/index.html\" title=\"The Boys in the Boat: Nine Americans and Their Epic Quest for Gold at the 1936 Berlin Olympics\">The Boys in the ...</a></h3>,\n",
       " <h3><a href=\"../../the-black-maria_991/index.html\" title=\"The Black Maria\">The Black Maria</a></h3>,\n",
       " <h3><a href=\"../../starving-hearts-triangular-trade-trilogy-1_990/index.html\" title=\"Starving Hearts (Triangular Trade Trilogy, #1)\">Starving Hearts (Triangular Trade ...</a></h3>,\n",
       " <h3><a href=\"../../shakespeares-sonnets_989/index.html\" title=\"Shakespeare's Sonnets\">Shakespeare's Sonnets</a></h3>,\n",
       " <h3><a href=\"../../set-me-free_988/index.html\" title=\"Set Me Free\">Set Me Free</a></h3>,\n",
       " <h3><a href=\"../../scott-pilgrims-precious-little-life-scott-pilgrim-1_987/index.html\" title=\"Scott Pilgrim's Precious Little Life (Scott Pilgrim #1)\">Scott Pilgrim's Precious Little ...</a></h3>,\n",
       " <h3><a href=\"../../rip-it-up-and-start-again_986/index.html\" title=\"Rip it Up and Start Again\">Rip it Up and ...</a></h3>,\n",
       " <h3><a href=\"../../our-band-could-be-your-life-scenes-from-the-american-indie-underground-1981-1991_985/index.html\" title=\"Our Band Could Be Your Life: Scenes from the American Indie Underground, 1981-1991\">Our Band Could Be ...</a></h3>,\n",
       " <h3><a href=\"../../olio_984/index.html\" title=\"Olio\">Olio</a></h3>,\n",
       " <h3><a href=\"../../mesaerion-the-best-science-fiction-stories-1800-1849_983/index.html\" title=\"Mesaerion: The Best Science Fiction Stories 1800-1849\">Mesaerion: The Best Science ...</a></h3>,\n",
       " <h3><a href=\"../../libertarianism-for-beginners_982/index.html\" title=\"Libertarianism for Beginners\">Libertarianism for Beginners</a></h3>,\n",
       " <h3><a href=\"../../its-only-the-himalayas_981/index.html\" title=\"It's Only the Himalayas\">It's Only the Himalayas</a></h3>]"
      ]
     },
     "execution_count": 8,
     "metadata": {},
     "output_type": "execute_result"
    }
   ],
   "source": [
    "soup.find_all(\"h3\")"
   ]
  },
  {
   "cell_type": "code",
   "execution_count": 9,
   "id": "65f17732",
   "metadata": {},
   "outputs": [
    {
     "name": "stdout",
     "output_type": "stream",
     "text": [
      "['A Light in the ...', 'Tipping the Velvet', 'Soumission', 'Sharp Objects', 'Sapiens: A Brief History ...', 'The Requiem Red', 'The Dirty Little Secrets ...', 'The Coming Woman: A ...', 'The Boys in the ...', 'The Black Maria', 'Starving Hearts (Triangular Trade ...', \"Shakespeare's Sonnets\", 'Set Me Free', \"Scott Pilgrim's Precious Little ...\", 'Rip it Up and ...', 'Our Band Could Be ...', 'Olio', 'Mesaerion: The Best Science ...', 'Libertarianism for Beginners', \"It's Only the Himalayas\"]\n"
     ]
    }
   ],
   "source": [
    "BName =[]\n",
    "names = soup.find_all(\"h3\")\n",
    "for i in names:\n",
    "    n = i.text.strip()\n",
    "    BName.append(n)\n",
    "    \n",
    "print(BName)"
   ]
  },
  {
   "cell_type": "code",
   "execution_count": 10,
   "id": "d5907cfd",
   "metadata": {},
   "outputs": [
    {
     "name": "stdout",
     "output_type": "stream",
     "text": [
      "['Three', 'One', 'One', 'Four', 'Five', 'One', 'Four', 'Three', 'Four', 'One', 'Two', 'Four', 'Five', 'Five', 'Five', 'Three', 'One', 'One', 'Two', 'Two']\n"
     ]
    }
   ],
   "source": [
    "Ratings =[]\n",
    "reviews = soup.find_all(\"p\", class_=re.compile(\"star-rating\"))\n",
    "for i in reviews:\n",
    "    x=i['class'][1]\n",
    "    Ratings.append(x)\n",
    "print(Ratings)    "
   ]
  },
  {
   "cell_type": "code",
   "execution_count": 11,
   "id": "df77af37",
   "metadata": {},
   "outputs": [
    {
     "name": "stdout",
     "output_type": "stream",
     "text": [
      "['Â£51.77', 'Â£53.74', 'Â£50.10', 'Â£47.82', 'Â£54.23', 'Â£22.65', 'Â£33.34', 'Â£17.93', 'Â£22.60', 'Â£52.15', 'Â£13.99', 'Â£20.66', 'Â£17.46', 'Â£52.29', 'Â£35.02', 'Â£57.25', 'Â£23.88', 'Â£37.59', 'Â£51.33', 'Â£45.17']\n"
     ]
    }
   ],
   "source": [
    "Price = []\n",
    "price = soup.find_all(\"p\",class_ = \"price_color\")\n",
    "for i in price:\n",
    "    x = i.text\n",
    "    Price.append(x)\n",
    "print(Price)"
   ]
  },
  {
   "cell_type": "code",
   "execution_count": 12,
   "id": "d83d52e8",
   "metadata": {},
   "outputs": [
    {
     "name": "stdout",
     "output_type": "stream",
     "text": [
      "['In stock', 'In stock', 'In stock', 'In stock', 'In stock', 'In stock', 'In stock', 'In stock', 'In stock', 'In stock', 'In stock', 'In stock', 'In stock', 'In stock', 'In stock', 'In stock', 'In stock', 'In stock', 'In stock', 'In stock']\n"
     ]
    }
   ],
   "source": [
    "Status = []\n",
    "status = soup.find_all(\"p\", class_ =\"instock availability\")\n",
    "for i in status:\n",
    "    x = i.text.strip()\n",
    "    Status.append(x)\n",
    "print(Status)"
   ]
  },
  {
   "cell_type": "code",
   "execution_count": 13,
   "id": "9a8ebfff",
   "metadata": {},
   "outputs": [
    {
     "name": "stdout",
     "output_type": "stream",
     "text": [
      "20\n",
      "20\n",
      "20\n",
      "20\n"
     ]
    }
   ],
   "source": [
    "BName =[]\n",
    "names = soup.find_all(\"h3\")\n",
    "for i in names:\n",
    "    n = i.text.strip()\n",
    "    BName.append(n)\n",
    "    \n",
    "print(len(BName))\n",
    "\n",
    "Ratings =[]\n",
    "reviews = soup.find_all(\"p\", class_=re.compile(\"star-rating\"))\n",
    "for i in reviews:\n",
    "    x=i['class'][1]\n",
    "    Ratings.append(x)\n",
    "print(len(Ratings)) \n",
    "\n",
    "Price = []\n",
    "price = soup.find_all(\"p\",class_ = \"price_color\")\n",
    "for i in price:\n",
    "    x = i.text\n",
    "    Price.append(x)\n",
    "print(len(Price))\n",
    "\n",
    "Status = []\n",
    "status = soup.find_all(\"p\", class_ =\"instock availability\")\n",
    "for i in status:\n",
    "    x = i.text.strip()\n",
    "    Status.append(x)\n",
    "print(len(Status))"
   ]
  },
  {
   "cell_type": "code",
   "execution_count": 14,
   "id": "8da9d4ca",
   "metadata": {},
   "outputs": [
    {
     "name": "stdout",
     "output_type": "stream",
     "text": [
      "https://books.toscrape.com/catalogue/page-1.html\n",
      "<Response [200]>\n",
      "https://books.toscrape.com/catalogue/page-2.html\n",
      "<Response [200]>\n",
      "https://books.toscrape.com/catalogue/page-3.html\n",
      "<Response [200]>\n",
      "https://books.toscrape.com/catalogue/page-4.html\n",
      "<Response [200]>\n",
      "https://books.toscrape.com/catalogue/page-5.html\n",
      "<Response [200]>\n",
      "https://books.toscrape.com/catalogue/page-6.html\n",
      "<Response [200]>\n",
      "https://books.toscrape.com/catalogue/page-7.html\n",
      "<Response [200]>\n",
      "https://books.toscrape.com/catalogue/page-8.html\n",
      "<Response [200]>\n",
      "https://books.toscrape.com/catalogue/page-9.html\n",
      "<Response [200]>\n",
      "https://books.toscrape.com/catalogue/page-10.html\n",
      "<Response [200]>\n",
      "https://books.toscrape.com/catalogue/page-11.html\n",
      "<Response [200]>\n",
      "https://books.toscrape.com/catalogue/page-12.html\n",
      "<Response [200]>\n",
      "https://books.toscrape.com/catalogue/page-13.html\n",
      "<Response [200]>\n",
      "https://books.toscrape.com/catalogue/page-14.html\n",
      "<Response [200]>\n",
      "https://books.toscrape.com/catalogue/page-15.html\n",
      "<Response [200]>\n",
      "https://books.toscrape.com/catalogue/page-16.html\n",
      "<Response [200]>\n",
      "https://books.toscrape.com/catalogue/page-17.html\n",
      "<Response [200]>\n",
      "https://books.toscrape.com/catalogue/page-18.html\n",
      "<Response [200]>\n",
      "https://books.toscrape.com/catalogue/page-19.html\n",
      "<Response [200]>\n",
      "https://books.toscrape.com/catalogue/page-20.html\n",
      "<Response [200]>\n",
      "https://books.toscrape.com/catalogue/page-21.html\n",
      "<Response [200]>\n",
      "https://books.toscrape.com/catalogue/page-22.html\n",
      "<Response [200]>\n",
      "https://books.toscrape.com/catalogue/page-23.html\n",
      "<Response [200]>\n",
      "https://books.toscrape.com/catalogue/page-24.html\n",
      "<Response [200]>\n",
      "https://books.toscrape.com/catalogue/page-25.html\n",
      "<Response [200]>\n",
      "https://books.toscrape.com/catalogue/page-26.html\n",
      "<Response [200]>\n",
      "https://books.toscrape.com/catalogue/page-27.html\n",
      "<Response [200]>\n",
      "https://books.toscrape.com/catalogue/page-28.html\n",
      "<Response [200]>\n",
      "https://books.toscrape.com/catalogue/page-29.html\n",
      "<Response [200]>\n",
      "https://books.toscrape.com/catalogue/page-30.html\n",
      "<Response [200]>\n",
      "https://books.toscrape.com/catalogue/page-31.html\n",
      "<Response [200]>\n",
      "https://books.toscrape.com/catalogue/page-32.html\n",
      "<Response [200]>\n",
      "https://books.toscrape.com/catalogue/page-33.html\n",
      "<Response [200]>\n",
      "https://books.toscrape.com/catalogue/page-34.html\n",
      "<Response [200]>\n",
      "https://books.toscrape.com/catalogue/page-35.html\n",
      "<Response [200]>\n",
      "https://books.toscrape.com/catalogue/page-36.html\n",
      "<Response [200]>\n",
      "https://books.toscrape.com/catalogue/page-37.html\n",
      "<Response [200]>\n",
      "https://books.toscrape.com/catalogue/page-38.html\n",
      "<Response [200]>\n",
      "https://books.toscrape.com/catalogue/page-39.html\n",
      "<Response [200]>\n",
      "https://books.toscrape.com/catalogue/page-40.html\n",
      "<Response [200]>\n",
      "https://books.toscrape.com/catalogue/page-41.html\n",
      "<Response [200]>\n",
      "https://books.toscrape.com/catalogue/page-42.html\n",
      "<Response [200]>\n",
      "https://books.toscrape.com/catalogue/page-43.html\n",
      "<Response [200]>\n",
      "https://books.toscrape.com/catalogue/page-44.html\n",
      "<Response [200]>\n",
      "https://books.toscrape.com/catalogue/page-45.html\n",
      "<Response [200]>\n",
      "https://books.toscrape.com/catalogue/page-46.html\n",
      "<Response [200]>\n",
      "https://books.toscrape.com/catalogue/page-47.html\n",
      "<Response [200]>\n",
      "https://books.toscrape.com/catalogue/page-48.html\n",
      "<Response [200]>\n",
      "https://books.toscrape.com/catalogue/page-49.html\n",
      "<Response [200]>\n",
      "https://books.toscrape.com/catalogue/page-50.html\n",
      "<Response [200]>\n",
      "40\n",
      "40\n",
      "40\n",
      "40\n"
     ]
    }
   ],
   "source": [
    "for i in range(1,51):\n",
    "    url=\"https://books.toscrape.com/catalogue/page-\"+str(i)+\".html\"\n",
    "    print(url)\n",
    "    r=requests.get(url)\n",
    "    print(r)\n",
    "    \n",
    "    soup=bs(r.text,\"lxml\")\n",
    "    \n",
    "    \n",
    "#BName =[]\n",
    "names = soup.find_all(\"h3\")\n",
    "for i in names:\n",
    "    n = i.text.strip()\n",
    "    BName.append(n)\n",
    "    \n",
    "print(len(BName))\n",
    "\n",
    "#Ratings =[]\n",
    "reviews = soup.find_all(\"p\", class_=re.compile(\"star-rating\"))\n",
    "for i in reviews:\n",
    "    x=i['class'][1]\n",
    "    Ratings.append(x)\n",
    "print(len(Ratings)) \n",
    "\n",
    "#Price = []\n",
    "price = soup.find_all(\"p\",class_ = \"price_color\")\n",
    "for i in price:\n",
    "    x = i.text\n",
    "    Price.append(x)\n",
    "print(len(Price))\n",
    "\n",
    "#Status = []\n",
    "status = soup.find_all(\"p\", class_ =\"instock availability\")\n",
    "for i in status:\n",
    "    x = i.text.strip()\n",
    "    Status.append(x)\n",
    "print(len(Status))"
   ]
  },
  {
   "cell_type": "code",
   "execution_count": 15,
   "id": "cd1ba61e",
   "metadata": {},
   "outputs": [],
   "source": [
    "da = {\"Name of the Books\":BName, \"Price of Books\":Price, \"Reviws\":Ratings,\"Availavility\":Status}"
   ]
  },
  {
   "cell_type": "code",
   "execution_count": 16,
   "id": "1947c6de",
   "metadata": {},
   "outputs": [],
   "source": [
    "df = pd.DataFrame(da)"
   ]
  },
  {
   "cell_type": "code",
   "execution_count": 17,
   "id": "89cd1858",
   "metadata": {},
   "outputs": [
    {
     "name": "stdout",
     "output_type": "stream",
     "text": [
      "                        Name of the Books Price of Books Reviws Availavility\n",
      "0                      A Light in the ...        Â£51.77  Three     In stock\n",
      "1                      Tipping the Velvet        Â£53.74    One     In stock\n",
      "2                              Soumission        Â£50.10    One     In stock\n",
      "3                           Sharp Objects        Â£47.82   Four     In stock\n",
      "4            Sapiens: A Brief History ...        Â£54.23   Five     In stock\n",
      "5                         The Requiem Red        Â£22.65    One     In stock\n",
      "6            The Dirty Little Secrets ...        Â£33.34   Four     In stock\n",
      "7                 The Coming Woman: A ...        Â£17.93  Three     In stock\n",
      "8                     The Boys in the ...        Â£22.60   Four     In stock\n",
      "9                         The Black Maria        Â£52.15    One     In stock\n",
      "10  Starving Hearts (Triangular Trade ...        Â£13.99    Two     In stock\n",
      "11                  Shakespeare's Sonnets        Â£20.66   Four     In stock\n",
      "12                            Set Me Free        Â£17.46   Five     In stock\n",
      "13    Scott Pilgrim's Precious Little ...        Â£52.29   Five     In stock\n",
      "14                      Rip it Up and ...        Â£35.02   Five     In stock\n",
      "15                  Our Band Could Be ...        Â£57.25  Three     In stock\n",
      "16                                   Olio        Â£23.88    One     In stock\n",
      "17        Mesaerion: The Best Science ...        Â£37.59    One     In stock\n",
      "18           Libertarianism for Beginners        Â£51.33    Two     In stock\n",
      "19                It's Only the Himalayas        Â£45.17    Two     In stock\n",
      "20                           Frankenstein        Â£38.00    Two     In stock\n",
      "21        Forever Rockers (The Rocker ...        Â£28.80  Three     In stock\n",
      "22            Fighting Fate (Fighting #6)        Â£39.24  Three     In stock\n",
      "23                                   Emma        Â£32.93    Two     In stock\n",
      "24                        Eat, Pray, Love        Â£51.32  Three     In stock\n",
      "25        Deep Under (Walker Security ...        Â£47.09   Five     In stock\n",
      "26         Choosing Our Religion: The ...        Â£28.42   Four     In stock\n",
      "27          Charlie and the Chocolate ...        Â£22.85  Three     In stock\n",
      "28     Charity's Cross (Charles Towne ...        Â£41.24    One     In stock\n",
      "29                           Bright Lines        Â£39.07   Five     In stock\n",
      "30     Bridget Jones's Diary (Bridget ...        Â£29.82    One     In stock\n",
      "31          Bounty (Colorado Mountain #7)        Â£37.26   Four     In stock\n",
      "32   Blood Defense (Samantha Brinkman ...        Â£20.30  Three     In stock\n",
      "33         Bleach, Vol. 1: Strawberry ...        Â£34.65   Five     In stock\n",
      "34                   Beyond Good and Evil        Â£43.38    One     In stock\n",
      "35       Alice in Wonderland (Alice's ...        Â£55.53    One     In stock\n",
      "36         Ajin: Demi-Human, Volume 1 ...        Â£57.06   Four     In stock\n",
      "37              A Spy's Devotion (The ...        Â£16.97   Five     In stock\n",
      "38                1st to Die (Women's ...        Â£53.98    One     In stock\n",
      "39                1,000 Places to See ...        Â£26.08   Five     In stock\n"
     ]
    }
   ],
   "source": [
    "print(df)"
   ]
  },
  {
   "cell_type": "code",
   "execution_count": 18,
   "id": "32003f70",
   "metadata": {},
   "outputs": [],
   "source": [
    "df.to_csv(\"BooksDetails.csv\")"
   ]
  }
 ],
 "metadata": {
  "kernelspec": {
   "display_name": "Python 3 (ipykernel)",
   "language": "python",
   "name": "python3"
  },
  "language_info": {
   "codemirror_mode": {
    "name": "ipython",
    "version": 3
   },
   "file_extension": ".py",
   "mimetype": "text/x-python",
   "name": "python",
   "nbconvert_exporter": "python",
   "pygments_lexer": "ipython3",
   "version": "3.11.3"
  }
 },
 "nbformat": 4,
 "nbformat_minor": 5
}
